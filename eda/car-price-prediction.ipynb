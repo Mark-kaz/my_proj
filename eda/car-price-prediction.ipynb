{
 "cells": [
  {
   "cell_type": "code",
   "execution_count": 1,
   "id": "a654a693",
   "metadata": {
    "_cell_guid": "b1076dfc-b9ad-4769-8c92-a6c4dae69d19",
    "_uuid": "8f2839f25d086af736a60e9eeb907d3b93b6e0e5",
    "execution": {
     "iopub.execute_input": "2024-09-23T04:55:36.008341Z",
     "iopub.status.busy": "2024-09-23T04:55:36.007359Z",
     "iopub.status.idle": "2024-09-23T04:55:36.477796Z",
     "shell.execute_reply": "2024-09-23T04:55:36.476466Z"
    },
    "papermill": {
     "duration": 0.493916,
     "end_time": "2024-09-23T04:55:36.480556",
     "exception": false,
     "start_time": "2024-09-23T04:55:35.986640",
     "status": "completed"
    },
    "tags": []
   },
   "outputs": [
    {
     "name": "stdout",
     "output_type": "stream",
     "text": [
      "/kaggle/input/car-price-predictionused-cars/car data.csv\n"
     ]
    }
   ],
   "source": [
    "# This Python 3 environment comes with many helpful analytics libraries installed\n",
    "# It is defined by the kaggle/python Docker image: https://github.com/kaggle/docker-python\n",
    "# For example, here's several helpful packages to load\n",
    "\n",
    "import numpy as np # linear algebra\n",
    "import pandas as pd # data processing, CSV file I/O (e.g. pd.read_csv)\n",
    "\n",
    "# Input data files are available in the read-only \"../input/\" directory\n",
    "# For example, running this (by clicking run or pressing Shift+Enter) will list all files under the input directory\n",
    "\n",
    "import os\n",
    "for dirname, _, filenames in os.walk('/kaggle/input'):\n",
    "    for filename in filenames:\n",
    "        print(os.path.join(dirname, filename))\n",
    "\n",
    "# You can write up to 20GB to the current directory (/kaggle/working/) that gets preserved as output when you create a version using \"Save & Run All\" \n",
    "# You can also write temporary files to /kaggle/temp/, but they won't be saved outside of the current session"
   ]
  },
  {
   "cell_type": "markdown",
   "id": "ca5f2485",
   "metadata": {
    "papermill": {
     "duration": 0.016704,
     "end_time": "2024-09-23T04:55:36.513752",
     "exception": false,
     "start_time": "2024-09-23T04:55:36.497048",
     "status": "completed"
    },
    "tags": []
   },
   "source": [
    "# **Import Libraries**"
   ]
  },
  {
   "cell_type": "code",
   "execution_count": 2,
   "id": "49bba031",
   "metadata": {
    "execution": {
     "iopub.execute_input": "2024-09-23T04:55:36.548131Z",
     "iopub.status.busy": "2024-09-23T04:55:36.547570Z",
     "iopub.status.idle": "2024-09-23T04:55:38.335650Z",
     "shell.execute_reply": "2024-09-23T04:55:38.334589Z"
    },
    "papermill": {
     "duration": 1.808395,
     "end_time": "2024-09-23T04:55:38.338454",
     "exception": false,
     "start_time": "2024-09-23T04:55:36.530059",
     "status": "completed"
    },
    "tags": []
   },
   "outputs": [],
   "source": [
    "import pandas as pd\n",
    "import matplotlib.pyplot as plt\n",
    "import numpy as np\n",
    "import seaborn as sns"
   ]
  },
  {
   "cell_type": "markdown",
   "id": "2b6b66f8",
   "metadata": {
    "papermill": {
     "duration": 0.016336,
     "end_time": "2024-09-23T04:55:38.371180",
     "exception": false,
     "start_time": "2024-09-23T04:55:38.354844",
     "status": "completed"
    },
    "tags": []
   },
   "source": [
    "# **Import Dataset**"
   ]
  },
  {
   "cell_type": "code",
   "execution_count": 3,
   "id": "16188d85",
   "metadata": {
    "execution": {
     "iopub.execute_input": "2024-09-23T04:55:38.405995Z",
     "iopub.status.busy": "2024-09-23T04:55:38.404923Z",
     "iopub.status.idle": "2024-09-23T04:55:38.455835Z",
     "shell.execute_reply": "2024-09-23T04:55:38.454613Z"
    },
    "papermill": {
     "duration": 0.070983,
     "end_time": "2024-09-23T04:55:38.458427",
     "exception": false,
     "start_time": "2024-09-23T04:55:38.387444",
     "status": "completed"
    },
    "tags": []
   },
   "outputs": [
    {
     "data": {
      "text/html": [
       "<div>\n",
       "<style scoped>\n",
       "    .dataframe tbody tr th:only-of-type {\n",
       "        vertical-align: middle;\n",
       "    }\n",
       "\n",
       "    .dataframe tbody tr th {\n",
       "        vertical-align: top;\n",
       "    }\n",
       "\n",
       "    .dataframe thead th {\n",
       "        text-align: right;\n",
       "    }\n",
       "</style>\n",
       "<table border=\"1\" class=\"dataframe\">\n",
       "  <thead>\n",
       "    <tr style=\"text-align: right;\">\n",
       "      <th></th>\n",
       "      <th>Car_Name</th>\n",
       "      <th>Year</th>\n",
       "      <th>Selling_Price</th>\n",
       "      <th>Present_Price</th>\n",
       "      <th>Driven_kms</th>\n",
       "      <th>Fuel_Type</th>\n",
       "      <th>Selling_type</th>\n",
       "      <th>Transmission</th>\n",
       "      <th>Owner</th>\n",
       "    </tr>\n",
       "  </thead>\n",
       "  <tbody>\n",
       "    <tr>\n",
       "      <th>0</th>\n",
       "      <td>ritz</td>\n",
       "      <td>2014</td>\n",
       "      <td>3.35</td>\n",
       "      <td>5.59</td>\n",
       "      <td>27000</td>\n",
       "      <td>Petrol</td>\n",
       "      <td>Dealer</td>\n",
       "      <td>Manual</td>\n",
       "      <td>0</td>\n",
       "    </tr>\n",
       "    <tr>\n",
       "      <th>1</th>\n",
       "      <td>sx4</td>\n",
       "      <td>2013</td>\n",
       "      <td>4.75</td>\n",
       "      <td>9.54</td>\n",
       "      <td>43000</td>\n",
       "      <td>Diesel</td>\n",
       "      <td>Dealer</td>\n",
       "      <td>Manual</td>\n",
       "      <td>0</td>\n",
       "    </tr>\n",
       "    <tr>\n",
       "      <th>2</th>\n",
       "      <td>ciaz</td>\n",
       "      <td>2017</td>\n",
       "      <td>7.25</td>\n",
       "      <td>9.85</td>\n",
       "      <td>6900</td>\n",
       "      <td>Petrol</td>\n",
       "      <td>Dealer</td>\n",
       "      <td>Manual</td>\n",
       "      <td>0</td>\n",
       "    </tr>\n",
       "    <tr>\n",
       "      <th>3</th>\n",
       "      <td>wagon r</td>\n",
       "      <td>2011</td>\n",
       "      <td>2.85</td>\n",
       "      <td>4.15</td>\n",
       "      <td>5200</td>\n",
       "      <td>Petrol</td>\n",
       "      <td>Dealer</td>\n",
       "      <td>Manual</td>\n",
       "      <td>0</td>\n",
       "    </tr>\n",
       "    <tr>\n",
       "      <th>4</th>\n",
       "      <td>swift</td>\n",
       "      <td>2014</td>\n",
       "      <td>4.60</td>\n",
       "      <td>6.87</td>\n",
       "      <td>42450</td>\n",
       "      <td>Diesel</td>\n",
       "      <td>Dealer</td>\n",
       "      <td>Manual</td>\n",
       "      <td>0</td>\n",
       "    </tr>\n",
       "    <tr>\n",
       "      <th>...</th>\n",
       "      <td>...</td>\n",
       "      <td>...</td>\n",
       "      <td>...</td>\n",
       "      <td>...</td>\n",
       "      <td>...</td>\n",
       "      <td>...</td>\n",
       "      <td>...</td>\n",
       "      <td>...</td>\n",
       "      <td>...</td>\n",
       "    </tr>\n",
       "    <tr>\n",
       "      <th>296</th>\n",
       "      <td>city</td>\n",
       "      <td>2016</td>\n",
       "      <td>9.50</td>\n",
       "      <td>11.60</td>\n",
       "      <td>33988</td>\n",
       "      <td>Diesel</td>\n",
       "      <td>Dealer</td>\n",
       "      <td>Manual</td>\n",
       "      <td>0</td>\n",
       "    </tr>\n",
       "    <tr>\n",
       "      <th>297</th>\n",
       "      <td>brio</td>\n",
       "      <td>2015</td>\n",
       "      <td>4.00</td>\n",
       "      <td>5.90</td>\n",
       "      <td>60000</td>\n",
       "      <td>Petrol</td>\n",
       "      <td>Dealer</td>\n",
       "      <td>Manual</td>\n",
       "      <td>0</td>\n",
       "    </tr>\n",
       "    <tr>\n",
       "      <th>298</th>\n",
       "      <td>city</td>\n",
       "      <td>2009</td>\n",
       "      <td>3.35</td>\n",
       "      <td>11.00</td>\n",
       "      <td>87934</td>\n",
       "      <td>Petrol</td>\n",
       "      <td>Dealer</td>\n",
       "      <td>Manual</td>\n",
       "      <td>0</td>\n",
       "    </tr>\n",
       "    <tr>\n",
       "      <th>299</th>\n",
       "      <td>city</td>\n",
       "      <td>2017</td>\n",
       "      <td>11.50</td>\n",
       "      <td>12.50</td>\n",
       "      <td>9000</td>\n",
       "      <td>Diesel</td>\n",
       "      <td>Dealer</td>\n",
       "      <td>Manual</td>\n",
       "      <td>0</td>\n",
       "    </tr>\n",
       "    <tr>\n",
       "      <th>300</th>\n",
       "      <td>brio</td>\n",
       "      <td>2016</td>\n",
       "      <td>5.30</td>\n",
       "      <td>5.90</td>\n",
       "      <td>5464</td>\n",
       "      <td>Petrol</td>\n",
       "      <td>Dealer</td>\n",
       "      <td>Manual</td>\n",
       "      <td>0</td>\n",
       "    </tr>\n",
       "  </tbody>\n",
       "</table>\n",
       "<p>301 rows × 9 columns</p>\n",
       "</div>"
      ],
      "text/plain": [
       "    Car_Name  Year  Selling_Price  Present_Price  Driven_kms Fuel_Type  \\\n",
       "0       ritz  2014           3.35           5.59       27000    Petrol   \n",
       "1        sx4  2013           4.75           9.54       43000    Diesel   \n",
       "2       ciaz  2017           7.25           9.85        6900    Petrol   \n",
       "3    wagon r  2011           2.85           4.15        5200    Petrol   \n",
       "4      swift  2014           4.60           6.87       42450    Diesel   \n",
       "..       ...   ...            ...            ...         ...       ...   \n",
       "296     city  2016           9.50          11.60       33988    Diesel   \n",
       "297     brio  2015           4.00           5.90       60000    Petrol   \n",
       "298     city  2009           3.35          11.00       87934    Petrol   \n",
       "299     city  2017          11.50          12.50        9000    Diesel   \n",
       "300     brio  2016           5.30           5.90        5464    Petrol   \n",
       "\n",
       "    Selling_type Transmission  Owner  \n",
       "0         Dealer       Manual      0  \n",
       "1         Dealer       Manual      0  \n",
       "2         Dealer       Manual      0  \n",
       "3         Dealer       Manual      0  \n",
       "4         Dealer       Manual      0  \n",
       "..           ...          ...    ...  \n",
       "296       Dealer       Manual      0  \n",
       "297       Dealer       Manual      0  \n",
       "298       Dealer       Manual      0  \n",
       "299       Dealer       Manual      0  \n",
       "300       Dealer       Manual      0  \n",
       "\n",
       "[301 rows x 9 columns]"
      ]
     },
     "execution_count": 3,
     "metadata": {},
     "output_type": "execute_result"
    }
   ],
   "source": [
    "df = pd.read_csv('/kaggle/input/car-price-predictionused-cars/car data.csv')\n",
    "df"
   ]
  },
  {
   "cell_type": "markdown",
   "id": "fab57c1e",
   "metadata": {
    "papermill": {
     "duration": 0.016259,
     "end_time": "2024-09-23T04:55:38.492041",
     "exception": false,
     "start_time": "2024-09-23T04:55:38.475782",
     "status": "completed"
    },
    "tags": []
   },
   "source": [
    "# **Data Preprocessing**"
   ]
  },
  {
   "cell_type": "code",
   "execution_count": 4,
   "id": "9bb3e3b1",
   "metadata": {
    "execution": {
     "iopub.execute_input": "2024-09-23T04:55:38.526924Z",
     "iopub.status.busy": "2024-09-23T04:55:38.526466Z",
     "iopub.status.idle": "2024-09-23T04:55:38.542646Z",
     "shell.execute_reply": "2024-09-23T04:55:38.541520Z"
    },
    "papermill": {
     "duration": 0.036983,
     "end_time": "2024-09-23T04:55:38.545440",
     "exception": false,
     "start_time": "2024-09-23T04:55:38.508457",
     "status": "completed"
    },
    "tags": []
   },
   "outputs": [
    {
     "data": {
      "text/html": [
       "<div>\n",
       "<style scoped>\n",
       "    .dataframe tbody tr th:only-of-type {\n",
       "        vertical-align: middle;\n",
       "    }\n",
       "\n",
       "    .dataframe tbody tr th {\n",
       "        vertical-align: top;\n",
       "    }\n",
       "\n",
       "    .dataframe thead th {\n",
       "        text-align: right;\n",
       "    }\n",
       "</style>\n",
       "<table border=\"1\" class=\"dataframe\">\n",
       "  <thead>\n",
       "    <tr style=\"text-align: right;\">\n",
       "      <th></th>\n",
       "      <th>Car_Name</th>\n",
       "      <th>Year</th>\n",
       "      <th>Selling_Price</th>\n",
       "      <th>Present_Price</th>\n",
       "      <th>Driven_kms</th>\n",
       "      <th>Fuel_Type</th>\n",
       "      <th>Selling_type</th>\n",
       "      <th>Transmission</th>\n",
       "      <th>Owner</th>\n",
       "    </tr>\n",
       "  </thead>\n",
       "  <tbody>\n",
       "    <tr>\n",
       "      <th>0</th>\n",
       "      <td>ritz</td>\n",
       "      <td>2014</td>\n",
       "      <td>3.35</td>\n",
       "      <td>5.59</td>\n",
       "      <td>27000</td>\n",
       "      <td>Petrol</td>\n",
       "      <td>Dealer</td>\n",
       "      <td>Manual</td>\n",
       "      <td>0</td>\n",
       "    </tr>\n",
       "    <tr>\n",
       "      <th>1</th>\n",
       "      <td>sx4</td>\n",
       "      <td>2013</td>\n",
       "      <td>4.75</td>\n",
       "      <td>9.54</td>\n",
       "      <td>43000</td>\n",
       "      <td>Diesel</td>\n",
       "      <td>Dealer</td>\n",
       "      <td>Manual</td>\n",
       "      <td>0</td>\n",
       "    </tr>\n",
       "    <tr>\n",
       "      <th>2</th>\n",
       "      <td>ciaz</td>\n",
       "      <td>2017</td>\n",
       "      <td>7.25</td>\n",
       "      <td>9.85</td>\n",
       "      <td>6900</td>\n",
       "      <td>Petrol</td>\n",
       "      <td>Dealer</td>\n",
       "      <td>Manual</td>\n",
       "      <td>0</td>\n",
       "    </tr>\n",
       "    <tr>\n",
       "      <th>3</th>\n",
       "      <td>wagon r</td>\n",
       "      <td>2011</td>\n",
       "      <td>2.85</td>\n",
       "      <td>4.15</td>\n",
       "      <td>5200</td>\n",
       "      <td>Petrol</td>\n",
       "      <td>Dealer</td>\n",
       "      <td>Manual</td>\n",
       "      <td>0</td>\n",
       "    </tr>\n",
       "    <tr>\n",
       "      <th>4</th>\n",
       "      <td>swift</td>\n",
       "      <td>2014</td>\n",
       "      <td>4.60</td>\n",
       "      <td>6.87</td>\n",
       "      <td>42450</td>\n",
       "      <td>Diesel</td>\n",
       "      <td>Dealer</td>\n",
       "      <td>Manual</td>\n",
       "      <td>0</td>\n",
       "    </tr>\n",
       "  </tbody>\n",
       "</table>\n",
       "</div>"
      ],
      "text/plain": [
       "  Car_Name  Year  Selling_Price  Present_Price  Driven_kms Fuel_Type  \\\n",
       "0     ritz  2014           3.35           5.59       27000    Petrol   \n",
       "1      sx4  2013           4.75           9.54       43000    Diesel   \n",
       "2     ciaz  2017           7.25           9.85        6900    Petrol   \n",
       "3  wagon r  2011           2.85           4.15        5200    Petrol   \n",
       "4    swift  2014           4.60           6.87       42450    Diesel   \n",
       "\n",
       "  Selling_type Transmission  Owner  \n",
       "0       Dealer       Manual      0  \n",
       "1       Dealer       Manual      0  \n",
       "2       Dealer       Manual      0  \n",
       "3       Dealer       Manual      0  \n",
       "4       Dealer       Manual      0  "
      ]
     },
     "execution_count": 4,
     "metadata": {},
     "output_type": "execute_result"
    }
   ],
   "source": [
    "df.head()"
   ]
  },
  {
   "cell_type": "code",
   "execution_count": 5,
   "id": "086f800f",
   "metadata": {
    "execution": {
     "iopub.execute_input": "2024-09-23T04:55:38.581693Z",
     "iopub.status.busy": "2024-09-23T04:55:38.581265Z",
     "iopub.status.idle": "2024-09-23T04:55:38.597927Z",
     "shell.execute_reply": "2024-09-23T04:55:38.596834Z"
    },
    "papermill": {
     "duration": 0.037431,
     "end_time": "2024-09-23T04:55:38.600357",
     "exception": false,
     "start_time": "2024-09-23T04:55:38.562926",
     "status": "completed"
    },
    "tags": []
   },
   "outputs": [
    {
     "data": {
      "text/html": [
       "<div>\n",
       "<style scoped>\n",
       "    .dataframe tbody tr th:only-of-type {\n",
       "        vertical-align: middle;\n",
       "    }\n",
       "\n",
       "    .dataframe tbody tr th {\n",
       "        vertical-align: top;\n",
       "    }\n",
       "\n",
       "    .dataframe thead th {\n",
       "        text-align: right;\n",
       "    }\n",
       "</style>\n",
       "<table border=\"1\" class=\"dataframe\">\n",
       "  <thead>\n",
       "    <tr style=\"text-align: right;\">\n",
       "      <th></th>\n",
       "      <th>Car_Name</th>\n",
       "      <th>Year</th>\n",
       "      <th>Selling_Price</th>\n",
       "      <th>Present_Price</th>\n",
       "      <th>Driven_kms</th>\n",
       "      <th>Fuel_Type</th>\n",
       "      <th>Selling_type</th>\n",
       "      <th>Transmission</th>\n",
       "      <th>Owner</th>\n",
       "    </tr>\n",
       "  </thead>\n",
       "  <tbody>\n",
       "    <tr>\n",
       "      <th>296</th>\n",
       "      <td>city</td>\n",
       "      <td>2016</td>\n",
       "      <td>9.50</td>\n",
       "      <td>11.6</td>\n",
       "      <td>33988</td>\n",
       "      <td>Diesel</td>\n",
       "      <td>Dealer</td>\n",
       "      <td>Manual</td>\n",
       "      <td>0</td>\n",
       "    </tr>\n",
       "    <tr>\n",
       "      <th>297</th>\n",
       "      <td>brio</td>\n",
       "      <td>2015</td>\n",
       "      <td>4.00</td>\n",
       "      <td>5.9</td>\n",
       "      <td>60000</td>\n",
       "      <td>Petrol</td>\n",
       "      <td>Dealer</td>\n",
       "      <td>Manual</td>\n",
       "      <td>0</td>\n",
       "    </tr>\n",
       "    <tr>\n",
       "      <th>298</th>\n",
       "      <td>city</td>\n",
       "      <td>2009</td>\n",
       "      <td>3.35</td>\n",
       "      <td>11.0</td>\n",
       "      <td>87934</td>\n",
       "      <td>Petrol</td>\n",
       "      <td>Dealer</td>\n",
       "      <td>Manual</td>\n",
       "      <td>0</td>\n",
       "    </tr>\n",
       "    <tr>\n",
       "      <th>299</th>\n",
       "      <td>city</td>\n",
       "      <td>2017</td>\n",
       "      <td>11.50</td>\n",
       "      <td>12.5</td>\n",
       "      <td>9000</td>\n",
       "      <td>Diesel</td>\n",
       "      <td>Dealer</td>\n",
       "      <td>Manual</td>\n",
       "      <td>0</td>\n",
       "    </tr>\n",
       "    <tr>\n",
       "      <th>300</th>\n",
       "      <td>brio</td>\n",
       "      <td>2016</td>\n",
       "      <td>5.30</td>\n",
       "      <td>5.9</td>\n",
       "      <td>5464</td>\n",
       "      <td>Petrol</td>\n",
       "      <td>Dealer</td>\n",
       "      <td>Manual</td>\n",
       "      <td>0</td>\n",
       "    </tr>\n",
       "  </tbody>\n",
       "</table>\n",
       "</div>"
      ],
      "text/plain": [
       "    Car_Name  Year  Selling_Price  Present_Price  Driven_kms Fuel_Type  \\\n",
       "296     city  2016           9.50           11.6       33988    Diesel   \n",
       "297     brio  2015           4.00            5.9       60000    Petrol   \n",
       "298     city  2009           3.35           11.0       87934    Petrol   \n",
       "299     city  2017          11.50           12.5        9000    Diesel   \n",
       "300     brio  2016           5.30            5.9        5464    Petrol   \n",
       "\n",
       "    Selling_type Transmission  Owner  \n",
       "296       Dealer       Manual      0  \n",
       "297       Dealer       Manual      0  \n",
       "298       Dealer       Manual      0  \n",
       "299       Dealer       Manual      0  \n",
       "300       Dealer       Manual      0  "
      ]
     },
     "execution_count": 5,
     "metadata": {},
     "output_type": "execute_result"
    }
   ],
   "source": [
    "df.tail()"
   ]
  },
  {
   "cell_type": "code",
   "execution_count": 6,
   "id": "6b8083d5",
   "metadata": {
    "execution": {
     "iopub.execute_input": "2024-09-23T04:55:38.637607Z",
     "iopub.status.busy": "2024-09-23T04:55:38.636488Z",
     "iopub.status.idle": "2024-09-23T04:55:38.644528Z",
     "shell.execute_reply": "2024-09-23T04:55:38.643182Z"
    },
    "papermill": {
     "duration": 0.029627,
     "end_time": "2024-09-23T04:55:38.647154",
     "exception": false,
     "start_time": "2024-09-23T04:55:38.617527",
     "status": "completed"
    },
    "tags": []
   },
   "outputs": [
    {
     "data": {
      "text/plain": [
       "Index(['Car_Name', 'Year', 'Selling_Price', 'Present_Price', 'Driven_kms',\n",
       "       'Fuel_Type', 'Selling_type', 'Transmission', 'Owner'],\n",
       "      dtype='object')"
      ]
     },
     "execution_count": 6,
     "metadata": {},
     "output_type": "execute_result"
    }
   ],
   "source": [
    "df.columns"
   ]
  },
  {
   "cell_type": "code",
   "execution_count": 7,
   "id": "b75b1481",
   "metadata": {
    "execution": {
     "iopub.execute_input": "2024-09-23T04:55:38.684829Z",
     "iopub.status.busy": "2024-09-23T04:55:38.683852Z",
     "iopub.status.idle": "2024-09-23T04:55:38.705311Z",
     "shell.execute_reply": "2024-09-23T04:55:38.704214Z"
    },
    "papermill": {
     "duration": 0.043036,
     "end_time": "2024-09-23T04:55:38.708063",
     "exception": false,
     "start_time": "2024-09-23T04:55:38.665027",
     "status": "completed"
    },
    "tags": []
   },
   "outputs": [
    {
     "name": "stdout",
     "output_type": "stream",
     "text": [
      "<class 'pandas.core.frame.DataFrame'>\n",
      "RangeIndex: 301 entries, 0 to 300\n",
      "Data columns (total 9 columns):\n",
      " #   Column         Non-Null Count  Dtype  \n",
      "---  ------         --------------  -----  \n",
      " 0   Car_Name       301 non-null    object \n",
      " 1   Year           301 non-null    int64  \n",
      " 2   Selling_Price  301 non-null    float64\n",
      " 3   Present_Price  301 non-null    float64\n",
      " 4   Driven_kms     301 non-null    int64  \n",
      " 5   Fuel_Type      301 non-null    object \n",
      " 6   Selling_type   301 non-null    object \n",
      " 7   Transmission   301 non-null    object \n",
      " 8   Owner          301 non-null    int64  \n",
      "dtypes: float64(2), int64(3), object(4)\n",
      "memory usage: 21.3+ KB\n"
     ]
    }
   ],
   "source": [
    "df.info()"
   ]
  },
  {
   "cell_type": "code",
   "execution_count": 8,
   "id": "9ce22ad2",
   "metadata": {
    "execution": {
     "iopub.execute_input": "2024-09-23T04:55:38.745166Z",
     "iopub.status.busy": "2024-09-23T04:55:38.744672Z",
     "iopub.status.idle": "2024-09-23T04:55:38.774204Z",
     "shell.execute_reply": "2024-09-23T04:55:38.772952Z"
    },
    "papermill": {
     "duration": 0.051271,
     "end_time": "2024-09-23T04:55:38.776999",
     "exception": false,
     "start_time": "2024-09-23T04:55:38.725728",
     "status": "completed"
    },
    "tags": []
   },
   "outputs": [
    {
     "data": {
      "text/html": [
       "<div>\n",
       "<style scoped>\n",
       "    .dataframe tbody tr th:only-of-type {\n",
       "        vertical-align: middle;\n",
       "    }\n",
       "\n",
       "    .dataframe tbody tr th {\n",
       "        vertical-align: top;\n",
       "    }\n",
       "\n",
       "    .dataframe thead th {\n",
       "        text-align: right;\n",
       "    }\n",
       "</style>\n",
       "<table border=\"1\" class=\"dataframe\">\n",
       "  <thead>\n",
       "    <tr style=\"text-align: right;\">\n",
       "      <th></th>\n",
       "      <th>Year</th>\n",
       "      <th>Selling_Price</th>\n",
       "      <th>Present_Price</th>\n",
       "      <th>Driven_kms</th>\n",
       "      <th>Owner</th>\n",
       "    </tr>\n",
       "  </thead>\n",
       "  <tbody>\n",
       "    <tr>\n",
       "      <th>count</th>\n",
       "      <td>301.000000</td>\n",
       "      <td>301.000000</td>\n",
       "      <td>301.000000</td>\n",
       "      <td>301.000000</td>\n",
       "      <td>301.000000</td>\n",
       "    </tr>\n",
       "    <tr>\n",
       "      <th>mean</th>\n",
       "      <td>2013.627907</td>\n",
       "      <td>4.661296</td>\n",
       "      <td>7.628472</td>\n",
       "      <td>36947.205980</td>\n",
       "      <td>0.043189</td>\n",
       "    </tr>\n",
       "    <tr>\n",
       "      <th>std</th>\n",
       "      <td>2.891554</td>\n",
       "      <td>5.082812</td>\n",
       "      <td>8.642584</td>\n",
       "      <td>38886.883882</td>\n",
       "      <td>0.247915</td>\n",
       "    </tr>\n",
       "    <tr>\n",
       "      <th>min</th>\n",
       "      <td>2003.000000</td>\n",
       "      <td>0.100000</td>\n",
       "      <td>0.320000</td>\n",
       "      <td>500.000000</td>\n",
       "      <td>0.000000</td>\n",
       "    </tr>\n",
       "    <tr>\n",
       "      <th>25%</th>\n",
       "      <td>2012.000000</td>\n",
       "      <td>0.900000</td>\n",
       "      <td>1.200000</td>\n",
       "      <td>15000.000000</td>\n",
       "      <td>0.000000</td>\n",
       "    </tr>\n",
       "    <tr>\n",
       "      <th>50%</th>\n",
       "      <td>2014.000000</td>\n",
       "      <td>3.600000</td>\n",
       "      <td>6.400000</td>\n",
       "      <td>32000.000000</td>\n",
       "      <td>0.000000</td>\n",
       "    </tr>\n",
       "    <tr>\n",
       "      <th>75%</th>\n",
       "      <td>2016.000000</td>\n",
       "      <td>6.000000</td>\n",
       "      <td>9.900000</td>\n",
       "      <td>48767.000000</td>\n",
       "      <td>0.000000</td>\n",
       "    </tr>\n",
       "    <tr>\n",
       "      <th>max</th>\n",
       "      <td>2018.000000</td>\n",
       "      <td>35.000000</td>\n",
       "      <td>92.600000</td>\n",
       "      <td>500000.000000</td>\n",
       "      <td>3.000000</td>\n",
       "    </tr>\n",
       "  </tbody>\n",
       "</table>\n",
       "</div>"
      ],
      "text/plain": [
       "              Year  Selling_Price  Present_Price     Driven_kms       Owner\n",
       "count   301.000000     301.000000     301.000000     301.000000  301.000000\n",
       "mean   2013.627907       4.661296       7.628472   36947.205980    0.043189\n",
       "std       2.891554       5.082812       8.642584   38886.883882    0.247915\n",
       "min    2003.000000       0.100000       0.320000     500.000000    0.000000\n",
       "25%    2012.000000       0.900000       1.200000   15000.000000    0.000000\n",
       "50%    2014.000000       3.600000       6.400000   32000.000000    0.000000\n",
       "75%    2016.000000       6.000000       9.900000   48767.000000    0.000000\n",
       "max    2018.000000      35.000000      92.600000  500000.000000    3.000000"
      ]
     },
     "metadata": {},
     "output_type": "display_data"
    }
   ],
   "source": [
    "display(df.describe())"
   ]
  },
  {
   "cell_type": "code",
   "execution_count": 9,
   "id": "080ee6e9",
   "metadata": {
    "execution": {
     "iopub.execute_input": "2024-09-23T04:55:38.814737Z",
     "iopub.status.busy": "2024-09-23T04:55:38.814253Z",
     "iopub.status.idle": "2024-09-23T04:55:38.821817Z",
     "shell.execute_reply": "2024-09-23T04:55:38.820655Z"
    },
    "papermill": {
     "duration": 0.0291,
     "end_time": "2024-09-23T04:55:38.824127",
     "exception": false,
     "start_time": "2024-09-23T04:55:38.795027",
     "status": "completed"
    },
    "tags": []
   },
   "outputs": [
    {
     "data": {
      "text/plain": [
       "(301, 9)"
      ]
     },
     "execution_count": 9,
     "metadata": {},
     "output_type": "execute_result"
    }
   ],
   "source": [
    "df.shape"
   ]
  },
  {
   "cell_type": "code",
   "execution_count": 10,
   "id": "730d1204",
   "metadata": {
    "execution": {
     "iopub.execute_input": "2024-09-23T04:55:38.861366Z",
     "iopub.status.busy": "2024-09-23T04:55:38.860903Z",
     "iopub.status.idle": "2024-09-23T04:55:38.871297Z",
     "shell.execute_reply": "2024-09-23T04:55:38.870100Z"
    },
    "papermill": {
     "duration": 0.032,
     "end_time": "2024-09-23T04:55:38.873777",
     "exception": false,
     "start_time": "2024-09-23T04:55:38.841777",
     "status": "completed"
    },
    "tags": []
   },
   "outputs": [
    {
     "data": {
      "text/plain": [
       "True"
      ]
     },
     "execution_count": 10,
     "metadata": {},
     "output_type": "execute_result"
    }
   ],
   "source": [
    "df.duplicated().any()"
   ]
  },
  {
   "cell_type": "code",
   "execution_count": 11,
   "id": "bf216a4b",
   "metadata": {
    "execution": {
     "iopub.execute_input": "2024-09-23T04:55:38.911718Z",
     "iopub.status.busy": "2024-09-23T04:55:38.911313Z",
     "iopub.status.idle": "2024-09-23T04:55:38.921396Z",
     "shell.execute_reply": "2024-09-23T04:55:38.920213Z"
    },
    "papermill": {
     "duration": 0.031935,
     "end_time": "2024-09-23T04:55:38.923816",
     "exception": false,
     "start_time": "2024-09-23T04:55:38.891881",
     "status": "completed"
    },
    "tags": []
   },
   "outputs": [
    {
     "data": {
      "text/plain": [
       "2"
      ]
     },
     "execution_count": 11,
     "metadata": {},
     "output_type": "execute_result"
    }
   ],
   "source": [
    "duplicate_values = df.duplicated().sum()\n",
    "duplicate_values"
   ]
  },
  {
   "cell_type": "code",
   "execution_count": 12,
   "id": "7c5495eb",
   "metadata": {
    "execution": {
     "iopub.execute_input": "2024-09-23T04:55:38.961899Z",
     "iopub.status.busy": "2024-09-23T04:55:38.961430Z",
     "iopub.status.idle": "2024-09-23T04:55:38.971102Z",
     "shell.execute_reply": "2024-09-23T04:55:38.969942Z"
    },
    "papermill": {
     "duration": 0.031658,
     "end_time": "2024-09-23T04:55:38.973558",
     "exception": false,
     "start_time": "2024-09-23T04:55:38.941900",
     "status": "completed"
    },
    "tags": []
   },
   "outputs": [
    {
     "data": {
      "text/plain": [
       "Car_Name         0\n",
       "Year             0\n",
       "Selling_Price    0\n",
       "Present_Price    0\n",
       "Driven_kms       0\n",
       "Fuel_Type        0\n",
       "Selling_type     0\n",
       "Transmission     0\n",
       "Owner            0\n",
       "dtype: int64"
      ]
     },
     "execution_count": 12,
     "metadata": {},
     "output_type": "execute_result"
    }
   ],
   "source": [
    "null_values = df.isna().sum()\n",
    "null_values"
   ]
  },
  {
   "cell_type": "code",
   "execution_count": 13,
   "id": "0ce84108",
   "metadata": {
    "execution": {
     "iopub.execute_input": "2024-09-23T04:55:39.012998Z",
     "iopub.status.busy": "2024-09-23T04:55:39.011972Z",
     "iopub.status.idle": "2024-09-23T04:55:39.020885Z",
     "shell.execute_reply": "2024-09-23T04:55:39.019368Z"
    },
    "papermill": {
     "duration": 0.031909,
     "end_time": "2024-09-23T04:55:39.023909",
     "exception": false,
     "start_time": "2024-09-23T04:55:38.992000",
     "status": "completed"
    },
    "tags": []
   },
   "outputs": [],
   "source": [
    "df.drop_duplicates(inplace= True)"
   ]
  },
  {
   "cell_type": "markdown",
   "id": "8b938ae8",
   "metadata": {
    "papermill": {
     "duration": 0.017988,
     "end_time": "2024-09-23T04:55:39.060627",
     "exception": false,
     "start_time": "2024-09-23T04:55:39.042639",
     "status": "completed"
    },
    "tags": []
   },
   "source": [
    "# **Exploratory Data Analysis**"
   ]
  },
  {
   "cell_type": "code",
   "execution_count": 14,
   "id": "08f2fa7e",
   "metadata": {
    "execution": {
     "iopub.execute_input": "2024-09-23T04:55:39.099258Z",
     "iopub.status.busy": "2024-09-23T04:55:39.098777Z",
     "iopub.status.idle": "2024-09-23T04:55:40.540755Z",
     "shell.execute_reply": "2024-09-23T04:55:40.539468Z"
    },
    "papermill": {
     "duration": 1.46482,
     "end_time": "2024-09-23T04:55:40.543785",
     "exception": false,
     "start_time": "2024-09-23T04:55:39.078965",
     "status": "completed"
    },
    "tags": []
   },
   "outputs": [
    {
     "data": {
      "text/plain": [
       "array([[<Axes: title={'center': 'Year'}>,\n",
       "        <Axes: title={'center': 'Selling_Price'}>],\n",
       "       [<Axes: title={'center': 'Present_Price'}>,\n",
       "        <Axes: title={'center': 'Driven_kms'}>],\n",
       "       [<Axes: title={'center': 'Owner'}>, <Axes: >]], dtype=object)"
      ]
     },
     "execution_count": 14,
     "metadata": {},
     "output_type": "execute_result"
    },
    {
     "data": {
      "image/png": "[encoded data removed]",
      "text/plain": [
       "<Figure size 1200x1200 with 6 Axes>"
      ]
     },
     "metadata": {},
     "output_type": "display_data"
    }
   ],
   "source": [
    "df.hist(figsize  = (12,12))"
   ]
  },
  {
   "cell_type": "code",
   "execution_count": 15,
   "id": "15093d17",
   "metadata": {
    "execution": {
     "iopub.execute_input": "2024-09-23T04:55:40.585823Z",
     "iopub.status.busy": "2024-09-23T04:55:40.585331Z",
     "iopub.status.idle": "2024-09-23T04:55:40.594504Z",
     "shell.execute_reply": "2024-09-23T04:55:40.593373Z"
    },
    "papermill": {
     "duration": 0.03246,
     "end_time": "2024-09-23T04:55:40.596805",
     "exception": false,
     "start_time": "2024-09-23T04:55:40.564345",
     "status": "completed"
    },
    "tags": []
   },
   "outputs": [],
   "source": [
    "numerical_columns = ['Year', 'Selling_Price', 'Present_Price', 'Driven_kms', 'Owner']\n",
    "\n",
    "numerical_df = df[numerical_columns]\n",
    "\n",
    "corr_matrix = numerical_df.corr()"
   ]
  },
  {
   "cell_type": "code",
   "execution_count": 16,
   "id": "ee295d0f",
   "metadata": {
    "execution": {
     "iopub.execute_input": "2024-09-23T04:55:40.637719Z",
     "iopub.status.busy": "2024-09-23T04:55:40.637235Z",
     "iopub.status.idle": "2024-09-23T04:55:40.652292Z",
     "shell.execute_reply": "2024-09-23T04:55:40.651170Z"
    },
    "papermill": {
     "duration": 0.03867,
     "end_time": "2024-09-23T04:55:40.654754",
     "exception": false,
     "start_time": "2024-09-23T04:55:40.616084",
     "status": "completed"
    },
    "tags": []
   },
   "outputs": [
    {
     "data": {
      "text/html": [
       "<div>\n",
       "<style scoped>\n",
       "    .dataframe tbody tr th:only-of-type {\n",
       "        vertical-align: middle;\n",
       "    }\n",
       "\n",
       "    .dataframe tbody tr th {\n",
       "        vertical-align: top;\n",
       "    }\n",
       "\n",
       "    .dataframe thead th {\n",
       "        text-align: right;\n",
       "    }\n",
       "</style>\n",
       "<table border=\"1\" class=\"dataframe\">\n",
       "  <thead>\n",
       "    <tr style=\"text-align: right;\">\n",
       "      <th></th>\n",
       "      <th>Year</th>\n",
       "      <th>Selling_Price</th>\n",
       "      <th>Present_Price</th>\n",
       "      <th>Driven_kms</th>\n",
       "      <th>Owner</th>\n",
       "    </tr>\n",
       "  </thead>\n",
       "  <tbody>\n",
       "    <tr>\n",
       "      <th>Year</th>\n",
       "      <td>1.000000</td>\n",
       "      <td>0.234369</td>\n",
       "      <td>-0.053167</td>\n",
       "      <td>-0.525714</td>\n",
       "      <td>-0.181639</td>\n",
       "    </tr>\n",
       "    <tr>\n",
       "      <th>Selling_Price</th>\n",
       "      <td>0.234369</td>\n",
       "      <td>1.000000</td>\n",
       "      <td>0.876305</td>\n",
       "      <td>0.028566</td>\n",
       "      <td>-0.087880</td>\n",
       "    </tr>\n",
       "    <tr>\n",
       "      <th>Present_Price</th>\n",
       "      <td>-0.053167</td>\n",
       "      <td>0.876305</td>\n",
       "      <td>1.000000</td>\n",
       "      <td>0.205224</td>\n",
       "      <td>0.009948</td>\n",
       "    </tr>\n",
       "    <tr>\n",
       "      <th>Driven_kms</th>\n",
       "      <td>-0.525714</td>\n",
       "      <td>0.028566</td>\n",
       "      <td>0.205224</td>\n",
       "      <td>1.000000</td>\n",
       "      <td>0.089367</td>\n",
       "    </tr>\n",
       "    <tr>\n",
       "      <th>Owner</th>\n",
       "      <td>-0.181639</td>\n",
       "      <td>-0.087880</td>\n",
       "      <td>0.009948</td>\n",
       "      <td>0.089367</td>\n",
       "      <td>1.000000</td>\n",
       "    </tr>\n",
       "  </tbody>\n",
       "</table>\n",
       "</div>"
      ],
      "text/plain": [
       "                   Year  Selling_Price  Present_Price  Driven_kms     Owner\n",
       "Year           1.000000       0.234369      -0.053167   -0.525714 -0.181639\n",
       "Selling_Price  0.234369       1.000000       0.876305    0.028566 -0.087880\n",
       "Present_Price -0.053167       0.876305       1.000000    0.205224  0.009948\n",
       "Driven_kms    -0.525714       0.028566       0.205224    1.000000  0.089367\n",
       "Owner         -0.181639      -0.087880       0.009948    0.089367  1.000000"
      ]
     },
     "execution_count": 16,
     "metadata": {},
     "output_type": "execute_result"
    }
   ],
   "source": [
    "corr_matrix"
   ]
  },
  {
   "cell_type": "code",
   "execution_count": 17,
   "id": "6c3e222a",
   "metadata": {
    "execution": {
     "iopub.execute_input": "2024-09-23T04:55:40.696356Z",
     "iopub.status.busy": "2024-09-23T04:55:40.695911Z",
     "iopub.status.idle": "2024-09-23T04:55:41.119385Z",
     "shell.execute_reply": "2024-09-23T04:55:41.118098Z"
    },
    "papermill": {
     "duration": 0.447778,
     "end_time": "2024-09-23T04:55:41.122306",
     "exception": false,
     "start_time": "2024-09-23T04:55:40.674528",
     "status": "completed"
    },
    "tags": []
   },
   "outputs": [
    {
     "data": {
      "image/png": "[encoded data removed]",
      "text/plain": [
       "<Figure size 600x600 with 2 Axes>"
      ]
     },
     "metadata": {},
     "output_type": "display_data"
    }
   ],
   "source": [
    "plt.figure(figsize=(6,6))\n",
    "sns.heatmap(corr_matrix, annot=True, cmap='pink',  linewidths=1,fmt=\".2f\")\n",
    "plt.title('Feature Correlation Heatmap')\n",
    "plt.show()"
   ]
  },
  {
   "cell_type": "markdown",
   "id": "bf961715",
   "metadata": {
    "papermill": {
     "duration": 0.020835,
     "end_time": "2024-09-23T04:55:41.164897",
     "exception": false,
     "start_time": "2024-09-23T04:55:41.144062",
     "status": "completed"
    },
    "tags": []
   },
   "source": [
    "1. Selling price and present price show a strong positive correlation which means present price of cars likely influences selling price.\n",
    "2. year and Driven kms show a negative correlation which means cars which are newer(lower in year value) will have lower mileage and wlillm more sell."
   ]
  },
  {
   "cell_type": "code",
   "execution_count": 18,
   "id": "f068ad33",
   "metadata": {
    "execution": {
     "iopub.execute_input": "2024-09-23T04:55:41.209167Z",
     "iopub.status.busy": "2024-09-23T04:55:41.208694Z",
     "iopub.status.idle": "2024-09-23T04:55:46.156874Z",
     "shell.execute_reply": "2024-09-23T04:55:46.155687Z"
    },
    "papermill": {
     "duration": 4.975481,
     "end_time": "2024-09-23T04:55:46.160904",
     "exception": false,
     "start_time": "2024-09-23T04:55:41.185423",
     "status": "completed"
    },
    "tags": []
   },
   "outputs": [
    {
     "data": {
      "image/png": "[encoded data removed]",
      "text/plain": [
       "<Figure size 1000x1000 with 20 Axes>"
      ]
     },
     "metadata": {},
     "output_type": "display_data"
    }
   ],
   "source": [
    "import warnings\n",
    "warnings.filterwarnings(\"ignore\", category=FutureWarning)\n",
    "sns.pairplot(df[['Present_Price', 'Year', 'Driven_kms', 'Selling_Price']])\n",
    "plt.show()"
   ]
  },
  {
   "cell_type": "code",
   "execution_count": 19,
   "id": "ff4dc578",
   "metadata": {
    "execution": {
     "iopub.execute_input": "2024-09-23T04:55:46.209537Z",
     "iopub.status.busy": "2024-09-23T04:55:46.209069Z",
     "iopub.status.idle": "2024-09-23T04:55:47.204305Z",
     "shell.execute_reply": "2024-09-23T04:55:47.202717Z"
    },
    "papermill": {
     "duration": 1.022663,
     "end_time": "2024-09-23T04:55:47.207193",
     "exception": false,
     "start_time": "2024-09-23T04:55:46.184530",
     "status": "completed"
    },
    "tags": []
   },
   "outputs": [
    {
     "data": {
      "image/png": "[encoded data removed]",
      "text/plain": [
       "<Figure size 500x400 with 1 Axes>"
      ]
     },
     "metadata": {},
     "output_type": "display_data"
    },
    {
     "data": {
      "image/png": "[encoded data removed]",
      "text/plain": [
       "<Figure size 500x400 with 1 Axes>"
      ]
     },
     "metadata": {},
     "output_type": "display_data"
    },
    {
     "data": {
      "image/png": "[encoded data removed]",
      "text/plain": [
       "<Figure size 500x400 with 1 Axes>"
      ]
     },
     "metadata": {},
     "output_type": "display_data"
    },
    {
     "data": {
      "image/png": "[encoded data removed]",
      "text/plain": [
       "<Figure size 500x400 with 1 Axes>"
      ]
     },
     "metadata": {},
     "output_type": "display_data"
    }
   ],
   "source": [
    "columns = ['Fuel_Type', 'Transmission', 'Owner', 'Selling_type']\n",
    "\n",
    "for column in columns:\n",
    "    plt.figure(figsize = (5,4))\n",
    "    sns.countplot(x = column, data = df)\n",
    "    plt.title(f'this is a count plot of {column}')\n",
    "    plt.xticks(rotation=90)\n",
    "    plt.show()"
   ]
  },
  {
   "cell_type": "code",
   "execution_count": 20,
   "id": "1ae08740",
   "metadata": {
    "execution": {
     "iopub.execute_input": "2024-09-23T04:55:47.258752Z",
     "iopub.status.busy": "2024-09-23T04:55:47.258287Z",
     "iopub.status.idle": "2024-09-23T04:55:47.534577Z",
     "shell.execute_reply": "2024-09-23T04:55:47.533205Z"
    },
    "papermill": {
     "duration": 0.305914,
     "end_time": "2024-09-23T04:55:47.537747",
     "exception": false,
     "start_time": "2024-09-23T04:55:47.231833",
     "status": "completed"
    },
    "tags": []
   },
   "outputs": [
    {
     "data": {
      "image/png": "[encoded data removed]",
      "text/plain": [
       "<Figure size 640x480 with 1 Axes>"
      ]
     },
     "metadata": {},
     "output_type": "display_data"
    }
   ],
   "source": [
    "sns.boxplot(df['Selling_Price'])\n",
    "plt.title('Selling Price Distribution')\n",
    "plt.show()"
   ]
  },
  {
   "cell_type": "code",
   "execution_count": 21,
   "id": "0e51026a",
   "metadata": {
    "execution": {
     "iopub.execute_input": "2024-09-23T04:55:47.595981Z",
     "iopub.status.busy": "2024-09-23T04:55:47.595521Z",
     "iopub.status.idle": "2024-09-23T04:55:47.816682Z",
     "shell.execute_reply": "2024-09-23T04:55:47.815446Z"
    },
    "papermill": {
     "duration": 0.254656,
     "end_time": "2024-09-23T04:55:47.819545",
     "exception": false,
     "start_time": "2024-09-23T04:55:47.564889",
     "status": "completed"
    },
    "tags": []
   },
   "outputs": [
    {
     "data": {
      "image/png": "[encoded data removed]",
      "text/plain": [
       "<Figure size 640x480 with 1 Axes>"
      ]
     },
     "metadata": {},
     "output_type": "display_data"
    }
   ],
   "source": [
    "sns.boxplot(df['Present_Price'])\n",
    "plt.title('Present Price Distribution')\n",
    "plt.show()"
   ]
  },
  {
   "cell_type": "markdown",
   "id": "83ba7e1f",
   "metadata": {
    "papermill": {
     "duration": 0.024773,
     "end_time": "2024-09-23T04:55:47.877562",
     "exception": false,
     "start_time": "2024-09-23T04:55:47.852789",
     "status": "completed"
    },
    "tags": []
   },
   "source": [
    "# **Feature Engineering¶**"
   ]
  },
  {
   "cell_type": "code",
   "execution_count": 22,
   "id": "07936976",
   "metadata": {
    "execution": {
     "iopub.execute_input": "2024-09-23T04:55:47.929457Z",
     "iopub.status.busy": "2024-09-23T04:55:47.928903Z",
     "iopub.status.idle": "2024-09-23T04:55:47.950859Z",
     "shell.execute_reply": "2024-09-23T04:55:47.949614Z"
    },
    "papermill": {
     "duration": 0.05142,
     "end_time": "2024-09-23T04:55:47.953809",
     "exception": false,
     "start_time": "2024-09-23T04:55:47.902389",
     "status": "completed"
    },
    "tags": []
   },
   "outputs": [
    {
     "data": {
      "text/html": [
       "<div>\n",
       "<style scoped>\n",
       "    .dataframe tbody tr th:only-of-type {\n",
       "        vertical-align: middle;\n",
       "    }\n",
       "\n",
       "    .dataframe tbody tr th {\n",
       "        vertical-align: top;\n",
       "    }\n",
       "\n",
       "    .dataframe thead th {\n",
       "        text-align: right;\n",
       "    }\n",
       "</style>\n",
       "<table border=\"1\" class=\"dataframe\">\n",
       "  <thead>\n",
       "    <tr style=\"text-align: right;\">\n",
       "      <th></th>\n",
       "      <th>Car_Name</th>\n",
       "      <th>Year</th>\n",
       "      <th>Selling_Price</th>\n",
       "      <th>Present_Price</th>\n",
       "      <th>Driven_kms</th>\n",
       "      <th>Fuel_Type</th>\n",
       "      <th>Selling_type</th>\n",
       "      <th>Transmission</th>\n",
       "      <th>Owner</th>\n",
       "      <th>Car_Age</th>\n",
       "    </tr>\n",
       "  </thead>\n",
       "  <tbody>\n",
       "    <tr>\n",
       "      <th>0</th>\n",
       "      <td>ritz</td>\n",
       "      <td>2014</td>\n",
       "      <td>3.35</td>\n",
       "      <td>5.59</td>\n",
       "      <td>27000</td>\n",
       "      <td>Petrol</td>\n",
       "      <td>Dealer</td>\n",
       "      <td>Manual</td>\n",
       "      <td>0</td>\n",
       "      <td>10</td>\n",
       "    </tr>\n",
       "    <tr>\n",
       "      <th>1</th>\n",
       "      <td>sx4</td>\n",
       "      <td>2013</td>\n",
       "      <td>4.75</td>\n",
       "      <td>9.54</td>\n",
       "      <td>43000</td>\n",
       "      <td>Diesel</td>\n",
       "      <td>Dealer</td>\n",
       "      <td>Manual</td>\n",
       "      <td>0</td>\n",
       "      <td>11</td>\n",
       "    </tr>\n",
       "    <tr>\n",
       "      <th>2</th>\n",
       "      <td>ciaz</td>\n",
       "      <td>2017</td>\n",
       "      <td>7.25</td>\n",
       "      <td>9.85</td>\n",
       "      <td>6900</td>\n",
       "      <td>Petrol</td>\n",
       "      <td>Dealer</td>\n",
       "      <td>Manual</td>\n",
       "      <td>0</td>\n",
       "      <td>7</td>\n",
       "    </tr>\n",
       "    <tr>\n",
       "      <th>3</th>\n",
       "      <td>wagon r</td>\n",
       "      <td>2011</td>\n",
       "      <td>2.85</td>\n",
       "      <td>4.15</td>\n",
       "      <td>5200</td>\n",
       "      <td>Petrol</td>\n",
       "      <td>Dealer</td>\n",
       "      <td>Manual</td>\n",
       "      <td>0</td>\n",
       "      <td>13</td>\n",
       "    </tr>\n",
       "    <tr>\n",
       "      <th>4</th>\n",
       "      <td>swift</td>\n",
       "      <td>2014</td>\n",
       "      <td>4.60</td>\n",
       "      <td>6.87</td>\n",
       "      <td>42450</td>\n",
       "      <td>Diesel</td>\n",
       "      <td>Dealer</td>\n",
       "      <td>Manual</td>\n",
       "      <td>0</td>\n",
       "      <td>10</td>\n",
       "    </tr>\n",
       "  </tbody>\n",
       "</table>\n",
       "</div>"
      ],
      "text/plain": [
       "  Car_Name  Year  Selling_Price  Present_Price  Driven_kms Fuel_Type  \\\n",
       "0     ritz  2014           3.35           5.59       27000    Petrol   \n",
       "1      sx4  2013           4.75           9.54       43000    Diesel   \n",
       "2     ciaz  2017           7.25           9.85        6900    Petrol   \n",
       "3  wagon r  2011           2.85           4.15        5200    Petrol   \n",
       "4    swift  2014           4.60           6.87       42450    Diesel   \n",
       "\n",
       "  Selling_type Transmission  Owner  Car_Age  \n",
       "0       Dealer       Manual      0       10  \n",
       "1       Dealer       Manual      0       11  \n",
       "2       Dealer       Manual      0        7  \n",
       "3       Dealer       Manual      0       13  \n",
       "4       Dealer       Manual      0       10  "
      ]
     },
     "execution_count": 22,
     "metadata": {},
     "output_type": "execute_result"
    }
   ],
   "source": [
    "df['Car_Age'] = 2024 - df['Year']\n",
    "df.head()"
   ]
  },
  {
   "cell_type": "markdown",
   "id": "0aa8a70e",
   "metadata": {
    "papermill": {
     "duration": 0.025031,
     "end_time": "2024-09-23T04:55:48.007362",
     "exception": false,
     "start_time": "2024-09-23T04:55:47.982331",
     "status": "completed"
    },
    "tags": []
   },
   "source": [
    "# **Data Transformation**"
   ]
  },
  {
   "cell_type": "code",
   "execution_count": 23,
   "id": "eadfab02",
   "metadata": {
    "execution": {
     "iopub.execute_input": "2024-09-23T04:55:48.060655Z",
     "iopub.status.busy": "2024-09-23T04:55:48.059677Z",
     "iopub.status.idle": "2024-09-23T04:55:48.071213Z",
     "shell.execute_reply": "2024-09-23T04:55:48.070051Z"
    },
    "papermill": {
     "duration": 0.041247,
     "end_time": "2024-09-23T04:55:48.074002",
     "exception": false,
     "start_time": "2024-09-23T04:55:48.032755",
     "status": "completed"
    },
    "tags": []
   },
   "outputs": [
    {
     "data": {
      "text/plain": [
       "Car_Name          object\n",
       "Year               int64\n",
       "Selling_Price    float64\n",
       "Present_Price    float64\n",
       "Driven_kms         int64\n",
       "Fuel_Type         object\n",
       "Selling_type      object\n",
       "Transmission      object\n",
       "Owner              int64\n",
       "Car_Age            int64\n",
       "dtype: object"
      ]
     },
     "execution_count": 23,
     "metadata": {},
     "output_type": "execute_result"
    }
   ],
   "source": [
    "df.dtypes"
   ]
  },
  {
   "cell_type": "code",
   "execution_count": 24,
   "id": "942762e6",
   "metadata": {
    "execution": {
     "iopub.execute_input": "2024-09-23T04:55:48.131073Z",
     "iopub.status.busy": "2024-09-23T04:55:48.130633Z",
     "iopub.status.idle": "2024-09-23T04:55:48.140209Z",
     "shell.execute_reply": "2024-09-23T04:55:48.139052Z"
    },
    "papermill": {
     "duration": 0.038702,
     "end_time": "2024-09-23T04:55:48.142532",
     "exception": false,
     "start_time": "2024-09-23T04:55:48.103830",
     "status": "completed"
    },
    "tags": []
   },
   "outputs": [
    {
     "data": {
      "text/plain": [
       "Fuel_Type\n",
       "Petrol    239\n",
       "Diesel     58\n",
       "CNG         2\n",
       "Name: count, dtype: int64"
      ]
     },
     "execution_count": 24,
     "metadata": {},
     "output_type": "execute_result"
    }
   ],
   "source": [
    "df['Fuel_Type'].value_counts()"
   ]
  },
  {
   "cell_type": "code",
   "execution_count": 25,
   "id": "b8bbfb60",
   "metadata": {
    "execution": {
     "iopub.execute_input": "2024-09-23T04:55:48.196818Z",
     "iopub.status.busy": "2024-09-23T04:55:48.195574Z",
     "iopub.status.idle": "2024-09-23T04:55:48.206095Z",
     "shell.execute_reply": "2024-09-23T04:55:48.204875Z"
    },
    "papermill": {
     "duration": 0.040642,
     "end_time": "2024-09-23T04:55:48.208570",
     "exception": false,
     "start_time": "2024-09-23T04:55:48.167928",
     "status": "completed"
    },
    "tags": []
   },
   "outputs": [
    {
     "data": {
      "text/plain": [
       "Selling_type\n",
       "Dealer        193\n",
       "Individual    106\n",
       "Name: count, dtype: int64"
      ]
     },
     "execution_count": 25,
     "metadata": {},
     "output_type": "execute_result"
    }
   ],
   "source": [
    "df['Selling_type'].value_counts()"
   ]
  },
  {
   "cell_type": "code",
   "execution_count": 26,
   "id": "0f785769",
   "metadata": {
    "execution": {
     "iopub.execute_input": "2024-09-23T04:55:48.261788Z",
     "iopub.status.busy": "2024-09-23T04:55:48.261375Z",
     "iopub.status.idle": "2024-09-23T04:55:48.271522Z",
     "shell.execute_reply": "2024-09-23T04:55:48.270272Z"
    },
    "papermill": {
     "duration": 0.040774,
     "end_time": "2024-09-23T04:55:48.275079",
     "exception": false,
     "start_time": "2024-09-23T04:55:48.234305",
     "status": "completed"
    },
    "tags": []
   },
   "outputs": [
    {
     "data": {
      "text/plain": [
       "Transmission\n",
       "Manual       260\n",
       "Automatic     39\n",
       "Name: count, dtype: int64"
      ]
     },
     "execution_count": 26,
     "metadata": {},
     "output_type": "execute_result"
    }
   ],
   "source": [
    "df['Transmission'].value_counts()"
   ]
  },
  {
   "cell_type": "code",
   "execution_count": 27,
   "id": "f4d81c6b",
   "metadata": {
    "execution": {
     "iopub.execute_input": "2024-09-23T04:55:48.329062Z",
     "iopub.status.busy": "2024-09-23T04:55:48.328620Z",
     "iopub.status.idle": "2024-09-23T04:55:48.336893Z",
     "shell.execute_reply": "2024-09-23T04:55:48.335588Z"
    },
    "papermill": {
     "duration": 0.038263,
     "end_time": "2024-09-23T04:55:48.339547",
     "exception": false,
     "start_time": "2024-09-23T04:55:48.301284",
     "status": "completed"
    },
    "tags": []
   },
   "outputs": [],
   "source": [
    "ordinal_map = {'CNG':2,'Diesel':1,'Petrol':0}\n",
    "df['Fuel_Type'] = df['Fuel_Type'].map(ordinal_map)\n",
    "df['Fuel_Type'] = df['Fuel_Type'].astype('int64')"
   ]
  },
  {
   "cell_type": "code",
   "execution_count": 28,
   "id": "b89593d0",
   "metadata": {
    "execution": {
     "iopub.execute_input": "2024-09-23T04:55:48.393921Z",
     "iopub.status.busy": "2024-09-23T04:55:48.393476Z",
     "iopub.status.idle": "2024-09-23T04:55:48.405785Z",
     "shell.execute_reply": "2024-09-23T04:55:48.404530Z"
    },
    "papermill": {
     "duration": 0.042845,
     "end_time": "2024-09-23T04:55:48.408305",
     "exception": false,
     "start_time": "2024-09-23T04:55:48.365460",
     "status": "completed"
    },
    "tags": []
   },
   "outputs": [],
   "source": [
    "df = pd.get_dummies(df, columns = ['Selling_type','Transmission'])"
   ]
  },
  {
   "cell_type": "code",
   "execution_count": 29,
   "id": "9d7d7993",
   "metadata": {
    "execution": {
     "iopub.execute_input": "2024-09-23T04:55:48.520800Z",
     "iopub.status.busy": "2024-09-23T04:55:48.520352Z",
     "iopub.status.idle": "2024-09-23T04:55:48.529983Z",
     "shell.execute_reply": "2024-09-23T04:55:48.528809Z"
    },
    "papermill": {
     "duration": 0.097935,
     "end_time": "2024-09-23T04:55:48.532381",
     "exception": false,
     "start_time": "2024-09-23T04:55:48.434446",
     "status": "completed"
    },
    "tags": []
   },
   "outputs": [
    {
     "data": {
      "text/plain": [
       "Car_Name                    object\n",
       "Year                         int64\n",
       "Selling_Price              float64\n",
       "Present_Price              float64\n",
       "Driven_kms                   int64\n",
       "Fuel_Type                    int64\n",
       "Owner                        int64\n",
       "Car_Age                      int64\n",
       "Selling_type_Dealer           bool\n",
       "Selling_type_Individual       bool\n",
       "Transmission_Automatic        bool\n",
       "Transmission_Manual           bool\n",
       "dtype: object"
      ]
     },
     "execution_count": 29,
     "metadata": {},
     "output_type": "execute_result"
    }
   ],
   "source": [
    "df.dtypes"
   ]
  },
  {
   "cell_type": "code",
   "execution_count": 30,
   "id": "321248e2",
   "metadata": {
    "execution": {
     "iopub.execute_input": "2024-09-23T04:55:48.586879Z",
     "iopub.status.busy": "2024-09-23T04:55:48.586422Z",
     "iopub.status.idle": "2024-09-23T04:55:48.594635Z",
     "shell.execute_reply": "2024-09-23T04:55:48.593495Z"
    },
    "papermill": {
     "duration": 0.038295,
     "end_time": "2024-09-23T04:55:48.597374",
     "exception": false,
     "start_time": "2024-09-23T04:55:48.559079",
     "status": "completed"
    },
    "tags": []
   },
   "outputs": [],
   "source": [
    "bool_columns = ['Selling_type_Dealer','Selling_type_Individual', 'Transmission_Automatic', 'Transmission_Manual']\n",
    "\n",
    "df[bool_columns] = df[bool_columns].astype('int64')"
   ]
  },
  {
   "cell_type": "code",
   "execution_count": 31,
   "id": "c9156159",
   "metadata": {
    "execution": {
     "iopub.execute_input": "2024-09-23T04:55:48.653596Z",
     "iopub.status.busy": "2024-09-23T04:55:48.653101Z",
     "iopub.status.idle": "2024-09-23T04:55:48.671502Z",
     "shell.execute_reply": "2024-09-23T04:55:48.670198Z"
    },
    "papermill": {
     "duration": 0.048342,
     "end_time": "2024-09-23T04:55:48.674072",
     "exception": false,
     "start_time": "2024-09-23T04:55:48.625730",
     "status": "completed"
    },
    "tags": []
   },
   "outputs": [
    {
     "data": {
      "text/html": [
       "<div>\n",
       "<style scoped>\n",
       "    .dataframe tbody tr th:only-of-type {\n",
       "        vertical-align: middle;\n",
       "    }\n",
       "\n",
       "    .dataframe tbody tr th {\n",
       "        vertical-align: top;\n",
       "    }\n",
       "\n",
       "    .dataframe thead th {\n",
       "        text-align: right;\n",
       "    }\n",
       "</style>\n",
       "<table border=\"1\" class=\"dataframe\">\n",
       "  <thead>\n",
       "    <tr style=\"text-align: right;\">\n",
       "      <th></th>\n",
       "      <th>Car_Name</th>\n",
       "      <th>Year</th>\n",
       "      <th>Selling_Price</th>\n",
       "      <th>Present_Price</th>\n",
       "      <th>Driven_kms</th>\n",
       "      <th>Fuel_Type</th>\n",
       "      <th>Owner</th>\n",
       "      <th>Car_Age</th>\n",
       "      <th>Selling_type_Dealer</th>\n",
       "      <th>Selling_type_Individual</th>\n",
       "      <th>Transmission_Automatic</th>\n",
       "      <th>Transmission_Manual</th>\n",
       "    </tr>\n",
       "  </thead>\n",
       "  <tbody>\n",
       "    <tr>\n",
       "      <th>0</th>\n",
       "      <td>ritz</td>\n",
       "      <td>2014</td>\n",
       "      <td>3.35</td>\n",
       "      <td>5.59</td>\n",
       "      <td>27000</td>\n",
       "      <td>0</td>\n",
       "      <td>0</td>\n",
       "      <td>10</td>\n",
       "      <td>1</td>\n",
       "      <td>0</td>\n",
       "      <td>0</td>\n",
       "      <td>1</td>\n",
       "    </tr>\n",
       "    <tr>\n",
       "      <th>1</th>\n",
       "      <td>sx4</td>\n",
       "      <td>2013</td>\n",
       "      <td>4.75</td>\n",
       "      <td>9.54</td>\n",
       "      <td>43000</td>\n",
       "      <td>1</td>\n",
       "      <td>0</td>\n",
       "      <td>11</td>\n",
       "      <td>1</td>\n",
       "      <td>0</td>\n",
       "      <td>0</td>\n",
       "      <td>1</td>\n",
       "    </tr>\n",
       "    <tr>\n",
       "      <th>2</th>\n",
       "      <td>ciaz</td>\n",
       "      <td>2017</td>\n",
       "      <td>7.25</td>\n",
       "      <td>9.85</td>\n",
       "      <td>6900</td>\n",
       "      <td>0</td>\n",
       "      <td>0</td>\n",
       "      <td>7</td>\n",
       "      <td>1</td>\n",
       "      <td>0</td>\n",
       "      <td>0</td>\n",
       "      <td>1</td>\n",
       "    </tr>\n",
       "    <tr>\n",
       "      <th>3</th>\n",
       "      <td>wagon r</td>\n",
       "      <td>2011</td>\n",
       "      <td>2.85</td>\n",
       "      <td>4.15</td>\n",
       "      <td>5200</td>\n",
       "      <td>0</td>\n",
       "      <td>0</td>\n",
       "      <td>13</td>\n",
       "      <td>1</td>\n",
       "      <td>0</td>\n",
       "      <td>0</td>\n",
       "      <td>1</td>\n",
       "    </tr>\n",
       "    <tr>\n",
       "      <th>4</th>\n",
       "      <td>swift</td>\n",
       "      <td>2014</td>\n",
       "      <td>4.60</td>\n",
       "      <td>6.87</td>\n",
       "      <td>42450</td>\n",
       "      <td>1</td>\n",
       "      <td>0</td>\n",
       "      <td>10</td>\n",
       "      <td>1</td>\n",
       "      <td>0</td>\n",
       "      <td>0</td>\n",
       "      <td>1</td>\n",
       "    </tr>\n",
       "  </tbody>\n",
       "</table>\n",
       "</div>"
      ],
      "text/plain": [
       "  Car_Name  Year  Selling_Price  Present_Price  Driven_kms  Fuel_Type  Owner  \\\n",
       "0     ritz  2014           3.35           5.59       27000          0      0   \n",
       "1      sx4  2013           4.75           9.54       43000          1      0   \n",
       "2     ciaz  2017           7.25           9.85        6900          0      0   \n",
       "3  wagon r  2011           2.85           4.15        5200          0      0   \n",
       "4    swift  2014           4.60           6.87       42450          1      0   \n",
       "\n",
       "   Car_Age  Selling_type_Dealer  Selling_type_Individual  \\\n",
       "0       10                    1                        0   \n",
       "1       11                    1                        0   \n",
       "2        7                    1                        0   \n",
       "3       13                    1                        0   \n",
       "4       10                    1                        0   \n",
       "\n",
       "   Transmission_Automatic  Transmission_Manual  \n",
       "0                       0                    1  \n",
       "1                       0                    1  \n",
       "2                       0                    1  \n",
       "3                       0                    1  \n",
       "4                       0                    1  "
      ]
     },
     "execution_count": 31,
     "metadata": {},
     "output_type": "execute_result"
    }
   ],
   "source": [
    "df.head()"
   ]
  },
  {
   "cell_type": "markdown",
   "id": "d5c4412d",
   "metadata": {
    "papermill": {
     "duration": 0.028425,
     "end_time": "2024-09-23T04:55:48.729903",
     "exception": false,
     "start_time": "2024-09-23T04:55:48.701478",
     "status": "completed"
    },
    "tags": []
   },
   "source": [
    "# **Model Building¶**"
   ]
  },
  {
   "cell_type": "code",
   "execution_count": 32,
   "id": "3aed6273",
   "metadata": {
    "execution": {
     "iopub.execute_input": "2024-09-23T04:55:48.785619Z",
     "iopub.status.busy": "2024-09-23T04:55:48.784287Z",
     "iopub.status.idle": "2024-09-23T04:55:48.791161Z",
     "shell.execute_reply": "2024-09-23T04:55:48.789966Z"
    },
    "papermill": {
     "duration": 0.037428,
     "end_time": "2024-09-23T04:55:48.793676",
     "exception": false,
     "start_time": "2024-09-23T04:55:48.756248",
     "status": "completed"
    },
    "tags": []
   },
   "outputs": [],
   "source": [
    "X = df.drop(['Car_Name','Selling_Price'],axis=1)\n",
    "y = df['Selling_Price']"
   ]
  },
  {
   "cell_type": "code",
   "execution_count": 33,
   "id": "a562d8bf",
   "metadata": {
    "execution": {
     "iopub.execute_input": "2024-09-23T04:55:48.848242Z",
     "iopub.status.busy": "2024-09-23T04:55:48.847774Z",
     "iopub.status.idle": "2024-09-23T04:55:48.863026Z",
     "shell.execute_reply": "2024-09-23T04:55:48.861969Z"
    },
    "papermill": {
     "duration": 0.045181,
     "end_time": "2024-09-23T04:55:48.865283",
     "exception": false,
     "start_time": "2024-09-23T04:55:48.820102",
     "status": "completed"
    },
    "tags": []
   },
   "outputs": [
    {
     "data": {
      "text/html": [
       "<div>\n",
       "<style scoped>\n",
       "    .dataframe tbody tr th:only-of-type {\n",
       "        vertical-align: middle;\n",
       "    }\n",
       "\n",
       "    .dataframe tbody tr th {\n",
       "        vertical-align: top;\n",
       "    }\n",
       "\n",
       "    .dataframe thead th {\n",
       "        text-align: right;\n",
       "    }\n",
       "</style>\n",
       "<table border=\"1\" class=\"dataframe\">\n",
       "  <thead>\n",
       "    <tr style=\"text-align: right;\">\n",
       "      <th></th>\n",
       "      <th>Year</th>\n",
       "      <th>Present_Price</th>\n",
       "      <th>Driven_kms</th>\n",
       "      <th>Fuel_Type</th>\n",
       "      <th>Owner</th>\n",
       "      <th>Car_Age</th>\n",
       "      <th>Selling_type_Dealer</th>\n",
       "      <th>Selling_type_Individual</th>\n",
       "      <th>Transmission_Automatic</th>\n",
       "      <th>Transmission_Manual</th>\n",
       "    </tr>\n",
       "  </thead>\n",
       "  <tbody>\n",
       "    <tr>\n",
       "      <th>0</th>\n",
       "      <td>2014</td>\n",
       "      <td>5.59</td>\n",
       "      <td>27000</td>\n",
       "      <td>0</td>\n",
       "      <td>0</td>\n",
       "      <td>10</td>\n",
       "      <td>1</td>\n",
       "      <td>0</td>\n",
       "      <td>0</td>\n",
       "      <td>1</td>\n",
       "    </tr>\n",
       "    <tr>\n",
       "      <th>1</th>\n",
       "      <td>2013</td>\n",
       "      <td>9.54</td>\n",
       "      <td>43000</td>\n",
       "      <td>1</td>\n",
       "      <td>0</td>\n",
       "      <td>11</td>\n",
       "      <td>1</td>\n",
       "      <td>0</td>\n",
       "      <td>0</td>\n",
       "      <td>1</td>\n",
       "    </tr>\n",
       "    <tr>\n",
       "      <th>2</th>\n",
       "      <td>2017</td>\n",
       "      <td>9.85</td>\n",
       "      <td>6900</td>\n",
       "      <td>0</td>\n",
       "      <td>0</td>\n",
       "      <td>7</td>\n",
       "      <td>1</td>\n",
       "      <td>0</td>\n",
       "      <td>0</td>\n",
       "      <td>1</td>\n",
       "    </tr>\n",
       "    <tr>\n",
       "      <th>3</th>\n",
       "      <td>2011</td>\n",
       "      <td>4.15</td>\n",
       "      <td>5200</td>\n",
       "      <td>0</td>\n",
       "      <td>0</td>\n",
       "      <td>13</td>\n",
       "      <td>1</td>\n",
       "      <td>0</td>\n",
       "      <td>0</td>\n",
       "      <td>1</td>\n",
       "    </tr>\n",
       "    <tr>\n",
       "      <th>4</th>\n",
       "      <td>2014</td>\n",
       "      <td>6.87</td>\n",
       "      <td>42450</td>\n",
       "      <td>1</td>\n",
       "      <td>0</td>\n",
       "      <td>10</td>\n",
       "      <td>1</td>\n",
       "      <td>0</td>\n",
       "      <td>0</td>\n",
       "      <td>1</td>\n",
       "    </tr>\n",
       "  </tbody>\n",
       "</table>\n",
       "</div>"
      ],
      "text/plain": [
       "   Year  Present_Price  Driven_kms  Fuel_Type  Owner  Car_Age  \\\n",
       "0  2014           5.59       27000          0      0       10   \n",
       "1  2013           9.54       43000          1      0       11   \n",
       "2  2017           9.85        6900          0      0        7   \n",
       "3  2011           4.15        5200          0      0       13   \n",
       "4  2014           6.87       42450          1      0       10   \n",
       "\n",
       "   Selling_type_Dealer  Selling_type_Individual  Transmission_Automatic  \\\n",
       "0                    1                        0                       0   \n",
       "1                    1                        0                       0   \n",
       "2                    1                        0                       0   \n",
       "3                    1                        0                       0   \n",
       "4                    1                        0                       0   \n",
       "\n",
       "   Transmission_Manual  \n",
       "0                    1  \n",
       "1                    1  \n",
       "2                    1  \n",
       "3                    1  \n",
       "4                    1  "
      ]
     },
     "execution_count": 33,
     "metadata": {},
     "output_type": "execute_result"
    }
   ],
   "source": [
    "X.head()"
   ]
  },
  {
   "cell_type": "code",
   "execution_count": 34,
   "id": "3cca82fe",
   "metadata": {
    "execution": {
     "iopub.execute_input": "2024-09-23T04:55:48.920885Z",
     "iopub.status.busy": "2024-09-23T04:55:48.920416Z",
     "iopub.status.idle": "2024-09-23T04:55:49.218740Z",
     "shell.execute_reply": "2024-09-23T04:55:49.217459Z"
    },
    "papermill": {
     "duration": 0.329785,
     "end_time": "2024-09-23T04:55:49.221701",
     "exception": false,
     "start_time": "2024-09-23T04:55:48.891916",
     "status": "completed"
    },
    "tags": []
   },
   "outputs": [],
   "source": [
    "from sklearn.model_selection import train_test_split\n",
    "X_train, X_test, y_train, y_test = train_test_split(X, y, test_size=0.2, random_state=42)"
   ]
  },
  {
   "cell_type": "code",
   "execution_count": 35,
   "id": "0615a0cd",
   "metadata": {
    "execution": {
     "iopub.execute_input": "2024-09-23T04:55:49.277598Z",
     "iopub.status.busy": "2024-09-23T04:55:49.276906Z",
     "iopub.status.idle": "2024-09-23T04:55:49.283533Z",
     "shell.execute_reply": "2024-09-23T04:55:49.282183Z"
    },
    "papermill": {
     "duration": 0.037803,
     "end_time": "2024-09-23T04:55:49.286152",
     "exception": false,
     "start_time": "2024-09-23T04:55:49.248349",
     "status": "completed"
    },
    "tags": []
   },
   "outputs": [],
   "source": [
    "from sklearn.model_selection import cross_val_score\n",
    "from sklearn.metrics import mean_absolute_error,mean_squared_error, r2_score"
   ]
  },
  {
   "cell_type": "code",
   "execution_count": 36,
   "id": "809b40af",
   "metadata": {
    "execution": {
     "iopub.execute_input": "2024-09-23T04:55:49.341677Z",
     "iopub.status.busy": "2024-09-23T04:55:49.341192Z",
     "iopub.status.idle": "2024-09-23T04:55:49.348611Z",
     "shell.execute_reply": "2024-09-23T04:55:49.347210Z"
    },
    "papermill": {
     "duration": 0.038155,
     "end_time": "2024-09-23T04:55:49.351045",
     "exception": false,
     "start_time": "2024-09-23T04:55:49.312890",
     "status": "completed"
    },
    "tags": []
   },
   "outputs": [],
   "source": [
    "def evaluation(y, predictions):\n",
    "    return {\n",
    "        'MAE': mean_absolute_error(y, predictions),\n",
    "        'MSE': mean_squared_error(y, predictions),\n",
    "        'RMSE': np.sqrt(mean_squared_error(y, predictions)),\n",
    "        'R-squared': r2_score(y, predictions)\n",
    "    }"
   ]
  },
  {
   "cell_type": "markdown",
   "id": "db65e69e",
   "metadata": {
    "papermill": {
     "duration": 0.026762,
     "end_time": "2024-09-23T04:55:49.404592",
     "exception": false,
     "start_time": "2024-09-23T04:55:49.377830",
     "status": "completed"
    },
    "tags": []
   },
   "source": [
    "## **Linear Regression Model**"
   ]
  },
  {
   "cell_type": "code",
   "execution_count": 37,
   "id": "a1c948d7",
   "metadata": {
    "execution": {
     "iopub.execute_input": "2024-09-23T04:55:49.460464Z",
     "iopub.status.busy": "2024-09-23T04:55:49.460011Z",
     "iopub.status.idle": "2024-09-23T04:55:49.594526Z",
     "shell.execute_reply": "2024-09-23T04:55:49.592924Z"
    },
    "papermill": {
     "duration": 0.16596,
     "end_time": "2024-09-23T04:55:49.597327",
     "exception": false,
     "start_time": "2024-09-23T04:55:49.431367",
     "status": "completed"
    },
    "tags": []
   },
   "outputs": [
    {
     "name": "stdout",
     "output_type": "stream",
     "text": [
      "Evaluation Results for LinearRegression\n",
      "------------------------------\n",
      "MAE: 1.5408119549692953\n",
      "MSE: 6.675444100492594\n",
      "RMSE: 2.583688081114397\n",
      "R-squared: 0.740993435641341\n",
      "Model: LinearRegression\n"
     ]
    }
   ],
   "source": [
    "from sklearn.linear_model import LinearRegression\n",
    "\n",
    "model_name = \"LinearRegression\"\n",
    "\n",
    "# Build a Linear Regression model\n",
    "lin_reg = LinearRegression()\n",
    "\n",
    "# Fit the model on the training data\n",
    "lin_reg.fit(X_train, y_train)\n",
    "\n",
    "# Predict using the model on the data\n",
    "predictions = lin_reg.predict(X_test)\n",
    "\n",
    "# Function call to Evaluate results of 'MAE', 'MSE', 'RMSE', 'R-squared'\n",
    "evaluation_results_l = evaluation(y_test, predictions)\n",
    "\n",
    "evaluation_results_l[\"Model\"] = model_name\n",
    "\n",
    "\n",
    "models = pd.DataFrame([evaluation_results_l])\n",
    "\n",
    "print(\"Evaluation Results for\", model_name)\n",
    "print('-'*30)\n",
    "for metric, value in evaluation_results_l.items():\n",
    "    print(f\"{metric}: {value}\")"
   ]
  },
  {
   "cell_type": "markdown",
   "id": "aa08f2eb",
   "metadata": {
    "papermill": {
     "duration": 0.026583,
     "end_time": "2024-09-23T04:55:49.650875",
     "exception": false,
     "start_time": "2024-09-23T04:55:49.624292",
     "status": "completed"
    },
    "tags": []
   },
   "source": [
    "## **Random Forest Model**"
   ]
  },
  {
   "cell_type": "code",
   "execution_count": 38,
   "id": "f9e7a138",
   "metadata": {
    "execution": {
     "iopub.execute_input": "2024-09-23T04:55:49.706844Z",
     "iopub.status.busy": "2024-09-23T04:55:49.706333Z",
     "iopub.status.idle": "2024-09-23T04:55:50.134490Z",
     "shell.execute_reply": "2024-09-23T04:55:50.132932Z"
    },
    "papermill": {
     "duration": 0.459251,
     "end_time": "2024-09-23T04:55:50.137042",
     "exception": false,
     "start_time": "2024-09-23T04:55:49.677791",
     "status": "completed"
    },
    "tags": []
   },
   "outputs": [
    {
     "name": "stdout",
     "output_type": "stream",
     "text": [
      "Evaluation Results for RandomForest\n",
      "------------------------------\n",
      "MAE: 1.4862266666666675\n",
      "MSE: 12.184563868000009\n",
      "RMSE: 3.4906394640523977\n",
      "R-squared: 0.5272401389105399\n",
      "Model: RandomForest\n"
     ]
    }
   ],
   "source": [
    "from sklearn.ensemble import RandomForestRegressor\n",
    "\n",
    "model_name = \"RandomForest\"\n",
    "\n",
    "# Build a Random Forest model\n",
    "rand_for = RandomForestRegressor(n_estimators=100, random_state=0)\n",
    "\n",
    "# Fit the model on the training data\n",
    "rand_for.fit(X_train, y_train)\n",
    "\n",
    "# Predict using the model on the test data\n",
    "predictions = rand_for.predict(X_test)\n",
    "\n",
    "# Function call to Evaluate results of 'MAE', 'MSE', 'RMSE', 'R-squared'\n",
    "evaluation_results_r = evaluation(y_test, predictions)\n",
    "\n",
    "\n",
    "evaluation_results_r[\"Model\"] = model_name\n",
    "\n",
    "\n",
    "models = pd.DataFrame([evaluation_results_r])\n",
    "\n",
    "print(\"Evaluation Results for\", model_name)\n",
    "print('-'*30)\n",
    "for metric, value in evaluation_results_r.items():\n",
    "    print(f\"{metric}: {value}\")"
   ]
  },
  {
   "cell_type": "markdown",
   "id": "1ddb8bd2",
   "metadata": {
    "papermill": {
     "duration": 0.02661,
     "end_time": "2024-09-23T04:55:50.190412",
     "exception": false,
     "start_time": "2024-09-23T04:55:50.163802",
     "status": "completed"
    },
    "tags": []
   },
   "source": [
    "## **Gradient Regressor Model**"
   ]
  },
  {
   "cell_type": "code",
   "execution_count": 39,
   "id": "b2491c50",
   "metadata": {
    "execution": {
     "iopub.execute_input": "2024-09-23T04:55:50.247407Z",
     "iopub.status.busy": "2024-09-23T04:55:50.246952Z",
     "iopub.status.idle": "2024-09-23T04:55:50.340323Z",
     "shell.execute_reply": "2024-09-23T04:55:50.339172Z"
    },
    "papermill": {
     "duration": 0.125704,
     "end_time": "2024-09-23T04:55:50.343445",
     "exception": false,
     "start_time": "2024-09-23T04:55:50.217741",
     "status": "completed"
    },
    "tags": []
   },
   "outputs": [
    {
     "name": "stdout",
     "output_type": "stream",
     "text": [
      "Evaluation Results for GradientBoostingRegressor\n",
      "------------------------------\n",
      "MAE: 1.2702059117088647\n",
      "MSE: 8.984301881463482\n",
      "RMSE: 2.9973825050305947\n",
      "R-squared: 0.6514099843473817\n",
      "Model: GradientBoostingRegressor\n"
     ]
    }
   ],
   "source": [
    "from sklearn.ensemble import GradientBoostingRegressor\n",
    "\n",
    "model_name = \"GradientBoostingRegressor\"\n",
    "\n",
    "# Build a Gradient Boost model\n",
    "g_boost = GradientBoostingRegressor(random_state=0)\n",
    "\n",
    "# Fit the model on the training data\n",
    "g_boost.fit(X_train, y_train)\n",
    "\n",
    "# Predict using the model on the test data\n",
    "predictions = g_boost.predict(X_test)\n",
    "\n",
    "# Function call to Evaluate results of 'MAE', 'MSE', 'RMSE', 'R-squared'\n",
    "evaluation_results_g = evaluation(y_test, predictions)\n",
    "\n",
    "evaluation_results_g[\"Model\"] = model_name\n",
    "\n",
    "models = pd.DataFrame([evaluation_results_g])\n",
    "\n",
    "print(\"Evaluation Results for\", model_name)\n",
    "print('-'*30)\n",
    "for metric, value in evaluation_results_g.items():\n",
    "    print(f\"{metric}: {value}\")\n"
   ]
  },
  {
   "cell_type": "markdown",
   "id": "1696b4ad",
   "metadata": {
    "papermill": {
     "duration": 0.02684,
     "end_time": "2024-09-23T04:55:50.397547",
     "exception": false,
     "start_time": "2024-09-23T04:55:50.370707",
     "status": "completed"
    },
    "tags": []
   },
   "source": [
    "## **Models Comparison¶**"
   ]
  },
  {
   "cell_type": "code",
   "execution_count": 40,
   "id": "db421ce0",
   "metadata": {
    "execution": {
     "iopub.execute_input": "2024-09-23T04:55:50.453949Z",
     "iopub.status.busy": "2024-09-23T04:55:50.453488Z",
     "iopub.status.idle": "2024-09-23T04:55:50.459974Z",
     "shell.execute_reply": "2024-09-23T04:55:50.458767Z"
    },
    "papermill": {
     "duration": 0.038449,
     "end_time": "2024-09-23T04:55:50.462870",
     "exception": false,
     "start_time": "2024-09-23T04:55:50.424421",
     "status": "completed"
    },
    "tags": []
   },
   "outputs": [],
   "source": [
    "model_results = [\n",
    "    {\"model\": \"LinearRegression\", \"r2 score\": evaluation_results_l['R-squared']},\n",
    "    {\"model\": \"RandomForestRegressor\", \"r2 score\": evaluation_results_r['R-squared']},\n",
    "    {\"model\": \"XGBRegressor\", \"r2 score\": evaluation_results_g['R-squared']},\n",
    "]"
   ]
  },
  {
   "cell_type": "code",
   "execution_count": 41,
   "id": "7950a1cd",
   "metadata": {
    "execution": {
     "iopub.execute_input": "2024-09-23T04:55:50.519303Z",
     "iopub.status.busy": "2024-09-23T04:55:50.518832Z",
     "iopub.status.idle": "2024-09-23T04:55:50.525791Z",
     "shell.execute_reply": "2024-09-23T04:55:50.524548Z"
    },
    "papermill": {
     "duration": 0.038666,
     "end_time": "2024-09-23T04:55:50.528669",
     "exception": false,
     "start_time": "2024-09-23T04:55:50.490003",
     "status": "completed"
    },
    "tags": []
   },
   "outputs": [
    {
     "name": "stdout",
     "output_type": "stream",
     "text": [
      "{'model': 'RandomForestRegressor', 'r2 score': 0.5272401389105399}\n",
      "{'model': 'XGBRegressor', 'r2 score': 0.6514099843473817}\n",
      "{'model': 'LinearRegression', 'r2 score': 0.740993435641341}\n"
     ]
    }
   ],
   "source": [
    "#sort models according to there results\n",
    "sorted_results = sorted(model_results, key=lambda x: x[\"r2 score\"])\n",
    "\n",
    "# Print the sorted results\n",
    "for result in sorted_results:\n",
    "    print(result)"
   ]
  },
  {
   "cell_type": "code",
   "execution_count": 42,
   "id": "a3424ba3",
   "metadata": {
    "execution": {
     "iopub.execute_input": "2024-09-23T04:55:50.586064Z",
     "iopub.status.busy": "2024-09-23T04:55:50.585623Z",
     "iopub.status.idle": "2024-09-23T04:55:50.591410Z",
     "shell.execute_reply": "2024-09-23T04:55:50.590281Z"
    },
    "papermill": {
     "duration": 0.038237,
     "end_time": "2024-09-23T04:55:50.594101",
     "exception": false,
     "start_time": "2024-09-23T04:55:50.555864",
     "status": "completed"
    },
    "tags": []
   },
   "outputs": [],
   "source": [
    "model_names = [model[\"model\"] for model in model_results]\n",
    "rmse_values = [model[\"r2 score\"] for model in model_results]"
   ]
  },
  {
   "cell_type": "code",
   "execution_count": 43,
   "id": "91a12186",
   "metadata": {
    "execution": {
     "iopub.execute_input": "2024-09-23T04:55:50.650160Z",
     "iopub.status.busy": "2024-09-23T04:55:50.649687Z",
     "iopub.status.idle": "2024-09-23T04:55:51.072182Z",
     "shell.execute_reply": "2024-09-23T04:55:51.070985Z"
    },
    "papermill": {
     "duration": 0.453599,
     "end_time": "2024-09-23T04:55:51.074796",
     "exception": false,
     "start_time": "2024-09-23T04:55:50.621197",
     "status": "completed"
    },
    "tags": []
   },
   "outputs": [
    {
     "data": {
      "image/png": "[encoded data removed]",
      "text/plain": [
       "<Figure size 800x400 with 1 Axes>"
      ]
     },
     "metadata": {},
     "output_type": "display_data"
    }
   ],
   "source": [
    "plt.figure(figsize=(8, 4))\n",
    "plt.bar(model_names, rmse_values, color=['green', 'blue', 'orange'])\n",
    "plt.xlabel('Models')\n",
    "plt.ylabel('r2 score')\n",
    "plt.title('Comparison of r2 score Values for Different Models')\n",
    "plt.show()\n",
    "     "
   ]
  },
  {
   "cell_type": "markdown",
   "id": "5dbbad87",
   "metadata": {
    "papermill": {
     "duration": 0.027203,
     "end_time": "2024-09-23T04:55:51.129703",
     "exception": false,
     "start_time": "2024-09-23T04:55:51.102500",
     "status": "completed"
    },
    "tags": []
   },
   "source": [
    "The results are clear that **linear regression model** is giving good performance as its r2 score is higher compared to other models."
   ]
  }
 ],
 "metadata": {
  "kaggle": {
   "accelerator": "none",
   "dataSources": [
    {
     "datasetId": 2491159,
     "sourceId": 4226692,
     "sourceType": "datasetVersion"
    }
   ],
   "dockerImageVersionId": 30761,
   "isGpuEnabled": false,
   "isInternetEnabled": true,
   "language": "python",
   "sourceType": "notebook"
  },
  "kernelspec": {
   "display_name": "Python 3",
   "language": "python",
   "name": "python3"
  },
  "language_info": {
   "codemirror_mode": {
    "name": "ipython",
    "version": 3
   },
   "file_extension": ".py",
   "mimetype": "text/x-python",
   "name": "python",
   "nbconvert_exporter": "python",
   "pygments_lexer": "ipython3",
   "version": "3.10.14"
  },
  "papermill": {
   "default_parameters": {},
   "duration": 19.053675,
   "end_time": "2024-09-23T04:55:51.980569",
   "environment_variables": {},
   "exception": null,
   "input_path": "__notebook__.ipynb",
   "output_path": "__notebook__.ipynb",
   "parameters": {},
   "start_time": "2024-09-23T04:55:32.926894",
   "version": "2.6.0"
  }
 },
 "nbformat": 4,
 "nbformat_minor": 5
}
